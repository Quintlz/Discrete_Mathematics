{
 "cells": [
  {
   "cell_type": "markdown",
   "metadata": {},
   "source": [
    "# Set Theory Assignment"
   ]
  },
  {
   "cell_type": "markdown",
   "metadata": {},
   "source": [
    "# 1. Proving Identities\n",
    "---\n",
    "#### Use LaTeX programming to show your solutions.\n",
    "#### Be Resourceful, use the internet.\n",
    "Given: A and B are sets, $\\exists x$ such that $(x \\in A \\land x \\in B)$<br>\n",
    "Show that:\n",
    "- $A \\setminus B = A \\cap B^{c}$\n",
    "- $B = (B \\cap A) \\cup (B \\cap A^{c})$\n",
    "- $B \\setminus A = B \\cap A^{c}$\n",
    "- $A \\cup B = A \\cup (B \\cap A^{c})$\n",
    "- $(\\bigcup_{i=1}^{\\infty} A_{i}^{c})^{c} = \\bigcap_{i=1}^{\\infty}A_{i}$\n",
    "- $|A \\cup B| = |A| + |B| - |A \\cap B|$\n"
   ]
  },
  {
   "cell_type": "markdown",
   "metadata": {},
   "source": [
    "---\n",
    "#### 1. $A \\setminus B = A \\cap B^{c}$\n",
    "Solution:\n",
    "\n",
    "Let:\n",
    "- A = { 1, 2, 3, 4, 5}\n",
    "- B = { 3, 4, 5, 6, 7}\n",
    "\n",
    "For $A$ \\ $B$ : \n",
    "\n",
    "- $A$ \\ $B$ = { 1, 2}\n",
    "\n",
    "For $A \\cap B^{c}$ :\n",
    "\n",
    "- $A \\cap B^{c}$ = $A \\cap (\\textbf{U} - B)$ = ($A \\cap \\textbf{U})$ - ($A \\cap B)$ = $A$ - $A \\cap B$ <br>\n",
    "- $A$ - $A \\cap B$ <br>\n",
    "- { 1, 2, 3, 4, 5} - { 3, 4, 5} = { 1, 2}\n",
    "\n",
    "TRUE\n",
    "\n"
   ]
  },
  {
   "cell_type": "markdown",
   "metadata": {},
   "source": [
    "#### 2. $B$ = $(B \\cap A) \\cup (B \\cap A^{c})$\n",
    "Solution:\n",
    "\n",
    "Let:\n",
    "- A = { 1, 2, 3, 4, 5}\n",
    "- B = { 3, 4, 5, 6, 7}\n",
    "\n",
    "- $B$ = $(B \\cap A) \\cup (B \\cap A^{c})$ = $(B \\cap A) \\cup (\\textbf{U} - A)$ <br>\n",
    "- $B$ = { 3, 4, 5} $\\cup$ { 6, 7} <br>\n",
    "- $B$ = { 3, 4, 5, 6, 7}\n",
    "\n",
    "TRUE"
   ]
  },
  {
   "cell_type": "markdown",
   "metadata": {},
   "source": [
    "#### 3. $B \\setminus A = B \\cap A^{c}$\n",
    "Solution:\n",
    "\n",
    "Let:\n",
    "- A = { 1, 2, 3, 4, 5}\n",
    "- B = { 3, 4, 5, 6, 7}\n",
    "\n",
    "For $B$ \\ $A$ :\n",
    "\n",
    "- $B$ \\ $A$ = {6,7}\n",
    "\n",
    "For $B \\cap A^{c}$ :\n",
    "\n",
    "- $B \\cap A^{c}$ = $B \\cap (\\textbf{U} - A)$ <br>\n",
    "- $B \\cap \\textbf{U} - B \\cap A$ <br>\n",
    "- { 3, 4, 5, 6, 7} - { 3, 4, 5} = { 6, 7}\n",
    "\n",
    "TRUE"
   ]
  },
  {
   "cell_type": "markdown",
   "metadata": {},
   "source": [
    "#### 4. $A \\cup B = A \\cup (B \\cap A^{c})$\n",
    "Solution:\n",
    "\n",
    "Let:\n",
    "- A = { 1, 2, 3, 4, 5}\n",
    "- B = { 3, 4, 5, 6, 7}\n",
    "\n",
    "For $A \\cup B$ : <br>\n",
    "$A \\cup B$ = { 1, 2, 3, 4, 5, 6, 7}\n",
    "\n",
    "For $A \\cup (B \\cap A^{c})$ : <br>\n",
    "- $A \\cup [B \\cap (\\textbf{U} - A)]$\n",
    "- $A \\cup (B \\cap \\textbf{U} - B \\cap A)$\n",
    "- $A$ $\\cup$ ( { 3, 4, 5, 6, 7} - { 3, 4, 5} )\n",
    "- $A$ $\\cup$ {6, 7} = { 1, 2, 3, 4, 5, 6, 7}\n",
    "\n",
    "TRUE"
   ]
  },
  {
   "cell_type": "markdown",
   "metadata": {},
   "source": [
    "#### 5. $(\\bigcup_{i=1}^{\\infty} A_{i}^{c})^{c} = \\bigcap_{i=1}^{\\infty}A_{i}$\n",
    "Solution:\n",
    "\n",
    "For $(\\bigcup_{i=1}^{\\infty} A_{i}^{c})^{c}$ : <br>\n",
    "- $(\\bigcup_{i=1}^{\\infty} A_{i}^{c})^{c} = (A_{1}^{c})^{c}$ = $A$ <br>\n",
    "\n",
    "For $ \\bigcap_{i=1}^{\\infty}A_{i}$ : <br>\n",
    "- $\\bigcap_{i=1}^{\\infty}A_{i}$ = $\\bigcap_{i=1}^{1}A_{i}$ = $A_{i}$ = $A$\n",
    "\n",
    "\n",
    "\n",
    "TRUE"
   ]
  },
  {
   "cell_type": "markdown",
   "metadata": {},
   "source": [
    "#### 6. $|A \\cup B| = |A| + |B| - |A \\cap B|$\n",
    "Solution:\n",
    "\n",
    "Let: <br>\n",
    "- A = { 1, 2, 3, 4, 5}\n",
    "- B = { 3, 4, 5, 6, 7}\n",
    "\n",
    "For $|A \\cup B|$ : <br>\n",
    "- $A \\cup B$ = {1, 2, 3, 4, 5, 6, 7} <br>\n",
    "- $|A \\cup B|$ = 7 <br>\n",
    "\n",
    "For $|A| + |B| - |A \\cap B|$ : <br>\n",
    "- $A \\cap B$ = {3, 4, 5} <br>\n",
    "- $|A \\cap B|$ = 3 <br>\n",
    "- $|A|$ = 5 <br>\n",
    "- $|B|$ = 5 <br>\n",
    "- $|A| + |B| - |A \\cap B|$ <br>\n",
    "- 5 + 5 - 3 <br>\n",
    "- 7\n",
    "\n",
    "TRUE"
   ]
  },
  {
   "cell_type": "markdown",
   "metadata": {},
   "source": [
    "# 2. Sets and Subsets\n",
    "---\n",
    "\n",
    "#### Use LaTeX Programming to show your solutions.\n",
    "\n",
    "- If A = {2, 3, 4, 5}, and $B$ = {$x \\in \\mathbb{N}$ | $x$ $\\text{is even}$}. <br>\n",
    "Is $A \\subset B$? Show a proof. <br>\n",
    "\n",
    "$A$ = {2, 3, 4, 5} <br>\n",
    "$B$ = {$x \\in \\mathbb{N}$ | $x$ $\\text{is even}$}. <br>\n",
    "\n",
    "Answer: Since not all elements in $A$ are elements of $B$ (3 & 5), we can conclude that $A \\not\\subset B$\n",
    "\n",
    "- $\\textbf{B} = \\{2, 4, 6, 8\\}$,\n",
    "and\n",
    "$\\textbf{C} = \\{1, 3, 5, 7, 9\\}$\n",
    "and\n",
    "$\\textbf{D} = \\{3, 4, 5\\}$.\n",
    "Find a set $\\textbf{X}$ which will satisfy the following conditions:\n",
    "1. $\\textbf{X}$ and $\\textbf{B}$ are disjoint.\n",
    "2. $\\textbf{X} \\subseteq \\textbf{D}$ but $\\textbf{X} \\nsubseteq \\textbf{B}$.\n",
    "3. $\\textbf{X} \\subseteq \\textbf{A}$ but $\\textbf{X} \\not\\subset \\textbf{C}$.\n",
    "\n",
    "Answer: <br>\n",
    "1. $\\textbf{X}$ and $\\textbf{B}$ are disjoint. <br>\n",
    "-  $X = \\emptyset$ <br>\n",
    "Since an empty set has no elements, it doesn't share any elements with $\\textbf{B}$, making $\\textbf{X}$ and $\\textbf{B}$ disjoint.\n",
    "2. $\\textbf{X} \\subseteq \\textbf{D}$ but $\\textbf{X} \\nsubseteq \\textbf{B}$. <br>\n",
    "-  $\\textbf{X} = \\{3, 4, 5\\}$ <br>\n",
    "$\\textbf{X} \\subseteq \\textbf{D}$ because all of its elements (3, 4, and 5) are also in $\\textbf{D}$. <br>\n",
    "$\\textbf{X} \\nsubseteq \\textbf{B}$ because although 4 is in both $\\textbf{X}$ and $\\textbf{B}$, the set $\\textbf{X}$ also contains elements (3 and 5) that are not in $\\textbf{B}$. <br>\n",
    "3. $\\textbf{X} \\subseteq \\textbf{A}$ but $\\textbf{X} \\not\\subset \\textbf{C}$. <br>\n",
    "- $\\textbf{X} = \\{2, 3\\}$ <br>\n",
    "- $\\textbf{X}$ is a subset of $A$ because both 2 and 3 are elements of $A$ <br> \n",
    "- $\\textbf{X}$ is not a proper subset of $C$  because even though it contains the element 3, it doesn't contain all the elements of $C$\n"
   ]
  },
  {
   "cell_type": "markdown",
   "metadata": {},
   "source": [
    "# 3. Set Operations\n",
    "---\n",
    "\n",
    "#### Use this website [https://learnpython.com/blog/set-operations-in-python/](https://learnpython.com/blog/set-operations-in-python/) to learn about set Operations in Python.\n",
    "##### 1. First solve the problems manually, use LaTeX programming to show your manual solutions.\n",
    "##### 2. Second, solve the problem using python. Show your codes for the pythonic solutions.\n",
    "##### Hint: You know your solutions are right if your manual solution is equivalent to your pythonic solution.\n",
    "\n",
    "Given: <br>\n",
    "$\\textbf{U} = \\{1,2,3,4,5\\}$ <br>\n",
    "$\\textbf{A} = \\{1,2,3,4,5\\}$ <br>\n",
    "$\\textbf{B} = \\{4,5,6,7\\}$ <br>\n",
    "$\\textbf{C} = \\{5,6,7,8,9\\}$ <br>\n",
    "$\\textbf{D} = \\{1,3,5,7,9\\}$ <br>\n",
    "$\\textbf{E} = \\{2,4,6,8\\}$ <br>\n",
    "$\\textbf{F} = \\{1,5,9\\}$ <br>\n",
    "\n",
    "- $\\textbf{C} \\oplus \\textbf{D}$\n",
    "- $\\textbf{A} \\backslash \\textbf{B}$\n",
    "- $\\textbf{B} \\backslash \\textbf{A}$\n",
    "- $\\textbf{E} \\oplus \\textbf{F}$\n",
    "\n",
    "Answer: <br>\n",
    "\n",
    "$1.$ $\\textbf{C} \\oplus \\textbf{D}$ <br>\n",
    "Solution: <br>\n",
    "\n",
    "Given: <br>\n",
    "$\\textbf{C} = \\{5, 6, 7, 8, 9\\}$ <br>\n",
    "$\\textbf{D} = \\{1, 3, 5, 7, 9\\}$\n",
    "\n",
    "\n",
    "The symmetric difference $\\textbf{C} \\oplus \\textbf{D}$ can be computed as:\n",
    "$\\textbf{C} \\oplus \\textbf{D} = (\\textbf{C} \\cup \\textbf{D}) - (\\textbf{C} \\cap \\textbf{D})$\n",
    "\n",
    "Calculating step by step:\n",
    "- $\\textbf{C} \\cup \\textbf{D} = \\{1, 3, 5, 6, 7, 8, 9\\}$\n",
    "- $\\textbf{C} \\cap \\textbf{D} = \\{5, 7, 9\\}$\n",
    "\n",
    "Therefore: <br>\n",
    "$\\textbf{C} \\oplus \\textbf{D} = \\{1, 3, 6, 8\\}$ \n",
    "\n"
   ]
  },
  {
   "cell_type": "code",
   "execution_count": 10,
   "metadata": {},
   "outputs": [
    {
     "name": "stdout",
     "output_type": "stream",
     "text": [
      "Symmetric Difference C ⊕ D: {1, 3, 6, 8}\n"
     ]
    }
   ],
   "source": [
    "# Given sets\n",
    "C = {5, 6, 7, 8, 9}\n",
    "D = {1, 3, 5, 7, 9}\n",
    "\n",
    "# Calculate the symmetric difference C ⊕ D\n",
    "result = C ^ D\n",
    "\n",
    "print(\"Symmetric Difference C ⊕ D:\", result)\n"
   ]
  },
  {
   "cell_type": "markdown",
   "metadata": {},
   "source": [
    "$2.$ $\\textbf{A} \\backslash \\textbf{B}$\n",
    "\n",
    "Given: <br>\n",
    "$\\textbf{A} = \\{1,2,3,4,5\\}$ <br>\n",
    "$\\textbf{B} = \\{4,5,6,7\\}$\n",
    "\n",
    "The set difference $\\textbf{A} \\backslash \\textbf{B}$ can be computed as:\n",
    "$\\textbf{A} \\backslash \\textbf{B} = \\textbf{A} - \\textbf{B}$ <br>\n",
    "\n",
    "$\\textbf{A} - \\textbf{B} = \\{1, 2, 3\\}$ <br>\n",
    "\n",
    "Therefore: <br>\n",
    "$\\textbf{A} \\backslash \\textbf{B} = \\{1, 2, 3\\}$"
   ]
  },
  {
   "cell_type": "code",
   "execution_count": 11,
   "metadata": {},
   "outputs": [
    {
     "name": "stdout",
     "output_type": "stream",
     "text": [
      "Set Difference:  {1, 2, 3}\n"
     ]
    }
   ],
   "source": [
    "#Given Sets\n",
    "A = {1,2,3,4,5}\n",
    "B = {4,5,6,7}\n",
    "\n",
    "# Calculate the set difference A\\B\n",
    "result = A - B\n",
    "\n",
    "print(\"Set Difference: \",result)"
   ]
  },
  {
   "cell_type": "markdown",
   "metadata": {},
   "source": [
    "$3.$ $\\textbf{B} \\backslash \\textbf{A}$\n",
    "\n",
    "Given: <br>\n",
    "$\\textbf{A} = \\{1,2,3,4,5\\}$ <br>\n",
    "$\\textbf{B} = \\{4,5,6,7\\}$\n",
    "\n",
    "The set difference $\\textbf{B} \\backslash \\textbf{A}$ can be computed as:\n",
    "$\\textbf{B} \\backslash \\textbf{A} = \\textbf{B} - \\textbf{A}$ <br>\n",
    "\n",
    "$\\textbf{B} - \\textbf{A} = \\{6,7\\}$ <br>\n",
    "\n",
    "Therefore: <br>\n",
    "$\\textbf{B} \\backslash \\textbf{A} = \\{6,7\\}$"
   ]
  },
  {
   "cell_type": "code",
   "execution_count": 12,
   "metadata": {},
   "outputs": [
    {
     "name": "stdout",
     "output_type": "stream",
     "text": [
      "Set Difference:  {6, 7}\n"
     ]
    }
   ],
   "source": [
    "#Given Sets\n",
    "A = {1,2,3,4,5}\n",
    "B = {4,5,6,7}\n",
    "\n",
    "# Calculate the set difference B\\A\n",
    "result = B - A\n",
    "\n",
    "print(\"Set Difference: \",result)"
   ]
  },
  {
   "cell_type": "markdown",
   "metadata": {},
   "source": [
    "$1.$ $\\textbf{E} \\oplus \\textbf{F}$ <br>\n",
    "Solution: <br>\n",
    "\n",
    "Given: <br>\n",
    "$\\textbf{E} = \\{2,4,6,8\\}$ <br>\n",
    "$\\textbf{F} = \\{1,5,9\\}$ \n",
    "\n",
    "\n",
    "The symmetric difference $\\textbf{E} \\oplus \\textbf{F}$ can be computed as:\n",
    "$\\textbf{E} \\oplus \\textbf{F} = (\\textbf{E} \\cup \\textbf{F}) - (\\textbf{E} \\cap \\textbf{F})$\n",
    "\n",
    "Calculating step by step:\n",
    "- $\\textbf{E} \\cup \\textbf{F} = \\{1, 2, 4, 5, 6, 8, 9\\}$\n",
    "- $\\textbf{E} \\cap \\textbf{F} = \\{\\}$\n",
    "\n",
    "Therefore: <br>\n",
    "$\\textbf{E} \\oplus \\textbf{F} = \\{1, 2, 4, 5, 6, 8, 9\\}$"
   ]
  },
  {
   "cell_type": "code",
   "execution_count": 13,
   "metadata": {},
   "outputs": [
    {
     "name": "stdout",
     "output_type": "stream",
     "text": [
      "Symmetric Difference E ⊕ F: {1, 2, 4, 5, 6, 8, 9}\n"
     ]
    }
   ],
   "source": [
    "# Given sets\n",
    "E = {2,4,6,8}\n",
    "F = {1,5,9}\n",
    "\n",
    "# Calculate the symmetric difference E ⊕ F\n",
    "result = E ^ F\n",
    "\n",
    "print(\"Symmetric Difference E ⊕ F:\", result)"
   ]
  },
  {
   "cell_type": "markdown",
   "metadata": {},
   "source": [
    "# 4. Finite Sets and The Counting Principles\n",
    "---\n",
    "\n",
    "In a Survey of 120 People, it was found that:\n",
    "- 65 read Newsweek Magazine\n",
    "- 45 read Times Magazine\n",
    "- 42 read Fortune Magazine\n",
    "- 20 read Both Newsweek and Time\n",
    "- 25 read both Newsweek and Fortune\n",
    "- 15 read both Time and Fortune\n",
    "- 8 read all three magazines\n",
    "\n",
    "With this information, do the following:\n",
    "\n",
    "1. Draw the Venn diagram using Python.\n",
    "2. Find the number of people who read at least one of the three magazines.\n",
    "3. Find the number of people who read exactly one magazine.\n",
    "\n",
    "Answer: <br>\n",
    "\n",
    "$1.$ Draw the Venn diagram using Python. <br>\n",
    "\n"
   ]
  },
  {
   "cell_type": "code",
   "execution_count": 5,
   "metadata": {},
   "outputs": [
    {
     "data": {
      "image/png": "[encoded data removed]",
      "text/plain": [
       "<Figure size 640x480 with 1 Axes>"
      ]
     },
     "metadata": {},
     "output_type": "display_data"
    }
   ],
   "source": [
    "from matplotlib_venn import venn3\n",
    "import matplotlib.pyplot as plt\n",
    "\n",
    "venn3(subsets = (65, 45, 20, 42, 25, 15, 8), set_labels = ('Newsweek', 'Times', 'Fortune'))\n",
    "\n",
    "plt.title(\"Venn Diagram of Magazine Readers\")\n",
    "plt.show()\n"
   ]
  },
  {
   "cell_type": "markdown",
   "metadata": {},
   "source": [
    "$2.$ Find the number of people who read at least one of the three magazines.\n",
    "\n",
    "To find the number of people who read at least one of the three magazines, we can use the principle of inclusion-exclusion. The formula for this is:\n",
    "\n",
    "Total = (A ∪ B ∪ C) = (A + B + C) - (A ∩ B) - (A ∩ C) - (B ∩ C) + (A ∩ B ∩ C)\n",
    "\n",
    "Where:\n",
    "- A is the number of people who read Newsweek\n",
    "- B is the number of people who read Times\n",
    "- C is the number of people who read Fortune\n",
    "\n",
    "Given the data:\n",
    "- A (Newsweek) = 65\n",
    "- B (Times) = 45\n",
    "- C (Fortune) = 42\n",
    "- A ∩ B (Newsweek and Times) = 20\n",
    "- A ∩ C (Newsweek and Fortune) = 25\n",
    "- B ∩ C (Times and Fortune) = 15\n",
    "- A ∩ B ∩ C (All three magazines) = 8\n",
    "\n",
    "Plugging these values into the formula:\n",
    "\n",
    "Total = (A + B + C) - (A ∩ B) - (A ∩ C) - (B ∩ C) + (A ∩ B ∩ C) <br>\n",
    "Total = (65 + 45 + 42) - 20 - 25 - 15 + 8 <br>\n",
    "Total = 152 - 20 - 25 - 15 + 8 <br>\n",
    "Total = 100\n",
    "\n",
    "Therefore, the total number of people who read at least one of the three magazines is 100.\n"
   ]
  },
  {
   "cell_type": "markdown",
   "metadata": {},
   "source": [
    "$3.$ Find the number of people who read exactly one magazine.\n",
    "\n",
    "Given the data:\n",
    "- A (Newsweek) = 65\n",
    "- B (Times) = 45\n",
    "- C (Fortune) = 42\n",
    "- A ∩ B (Newsweek and Times) = 20\n",
    "- A ∩ C (Newsweek and Fortune) = 25\n",
    "- B ∩ C (Times and Fortune) = 15\n",
    "- A ∩ B ∩ C (All three magazines) = 8\n",
    "\n",
    "Newsweek = $A -| A \\cap C | - | A \\cap B | + |A \\cap B \\cap C| = 65 - 25 - 20 + 8 = 28$ <br>\n",
    "Times = $B -| B \\cap C | - | B \\cap A | + |A \\cap B \\cap C| = 45 - 15 - 20 + 8 = 18$ <br>\n",
    "Fortune = $C -| C \\cap A | - | C \\cap B | + |A \\cap B \\cap C| = 42 - 25 - 15 + 8 = 10$ <br>\n",
    "\n",
    "There are 56 people who read exactly one magazine <br>"
   ]
  },
  {
   "cell_type": "markdown",
   "metadata": {},
   "source": [
    " In a Survey of 25 New Cars at a Local Auto Dealer\n",
    "\n",
    "A survey of 25 new cars being sold at a local auto dealer was conducted to see which of the three popular options were installed: \n",
    "- Air-conditioning, denoted as A.\n",
    "- Radio, denoted as R.\n",
    "- Power windows, denoted as W.\n",
    "\n",
    "The survey found that:\n",
    "- 15 had A (and possibly other options).\n",
    "- 12 had R (and possibly other options).\n",
    "- 11 had W (and possibly other options).\n",
    "- 5 had both A and W.\n",
    "- 9 had both A and R.\n",
    "- 4 had both R and W.\n",
    "- Only 3 had all three options.\n",
    "\n",
    "With this information, do the following:\n",
    "\n",
    "1. Draw the Venn diagram using Python.\n",
    "2. Find the number of cars with W only.\n",
    "3. Find the number of cars with A only.\n",
    "4. Find the number of cars with R only.\n",
    "5. Find the number of cars with both R and W but not A.\n",
    "6. Find the number of cars with both A and R but not W.\n",
    "7. Find the number of cars with only one of the options.\n",
    "8. Find the number of cars with at least one option.\n",
    "9. Find the number of cars with none of the options.\n"
   ]
  },
  {
   "cell_type": "code",
   "execution_count": 1,
   "metadata": {},
   "outputs": [
    {
     "data": {
      "image/png": "[encoded data removed]",
      "text/plain": [
       "<Figure size 640x480 with 1 Axes>"
      ]
     },
     "metadata": {},
     "output_type": "display_data"
    }
   ],
   "source": [
    "from matplotlib_venn import venn3\n",
    "import matplotlib.pyplot as plt\n",
    "\n",
    "venn3(subsets = (15, 12, 9, 11, 5, 4, 3), set_labels = ('air-conditioning', 'radio', 'power windows'))\n",
    "\n",
    "plt.title(\"Popular features in Cars Sold\")\n",
    "plt.show()"
   ]
  },
  {
   "cell_type": "markdown",
   "metadata": {},
   "source": [
    "Answer: <br>\n",
    "\n",
    "2. Find the number of cars with W only.\n",
    "- $|W| = |W \\cap A| - |W \\cap R| + |W \\cap R \\cap A|$\n",
    "- $|W| = 11-5-4+3 = 5$\n",
    "3. Find the number of cars with A only.\n",
    "- $|A| = |A \\cap W| - |A \\cap R| + |A \\cap R \\cap W|$\n",
    "- $|A| = 15-5-9+3 = 4$\n",
    "4. Find the number of cars with R only.\n",
    "- $|R| = |R \\cap A| - |R \\cap W| + |R \\cap W \\cap A|$\n",
    "- $|R| = 12-9-4+3 = 2$\n",
    "\n",
    "5. Find the number of cars with both R and W but not A.\n",
    "- $|R \\cap W| - |W \\cap A \\cap R|$\n",
    "- $4-3 = 1$\n",
    "\n",
    "6. Find the number of cars with both A and R but not W.\n",
    "- $|A \\cap R| - |A \\cap R \\cap W|$\n",
    "- $9-3 = 6$\n",
    "7. Find the number of cars with only one of the options.\n",
    "- $|A| + |B| + |C|$\n",
    "- $5+4+2 = 11$\n",
    "8. Find the number of cars with at least one option.\n",
    "- $|W| + |A| + |R| - |W \\cap A| - |W \\cap R| - |A \\cap R| + |W \\cap A \\cap R|$\n",
    "- $11+15+12-5-4-9+3 = 23$\n",
    "9. Find the number of cars with none of the options.\n",
    "- $|\\mathcal{U}| - |W \\cup A \\cup R| = 25 - 23 = 2$"
   ]
  }
 ],
 "metadata": {
  "kernelspec": {
   "display_name": "Python 3",
   "language": "python",
   "name": "python3"
  },
  "language_info": {
   "codemirror_mode": {
    "name": "ipython",
    "version": 3
   },
   "file_extension": ".py",
   "mimetype": "text/x-python",
   "name": "python",
   "nbconvert_exporter": "python",
   "pygments_lexer": "ipython3",
   "version": "3.11.5"
  },
  "orig_nbformat": 4
 },
 "nbformat": 4,
 "nbformat_minor": 2
}
